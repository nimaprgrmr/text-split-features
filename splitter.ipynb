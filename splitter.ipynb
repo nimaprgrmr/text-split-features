{
 "cells": [
  {
   "cell_type": "code",
   "execution_count": 10,
   "metadata": {},
   "outputs": [],
   "source": [
    "from hazm import Normalizer, POSTagger, word_tokenize, Chunker, tree2brackets"
   ]
  },
  {
   "cell_type": "code",
   "execution_count": 11,
   "metadata": {},
   "outputs": [],
   "source": [
    "tools = [\n",
    "    \"1- کابل فاصله ای با یک بخش متقاطع به مساحت 70 میلی متر مربع با ولتاژ رتبه ای 20 کیلوولت\",\n",
    "    \"2- کابل فاصله ای با یک بخش متقاطع به مساحت 120 میلی متر مربع با ولتاژ رتبه ای 20 کیلوولت\",\n",
    "    \"3- کابل مستقیم با شارژ 250 آمپر برای محدوده ولتاژ 20 کیلوولت\",\n",
    "    \"4- اتصال فشرده رزین برای کابل چند هسته ای با بخش ها (50 تا 95) میلی متر مربع\",\n",
    "    \"5- پوشش سارکابل\",\n",
    "    \"6- لوله پلی اتیلن با قطر 180 میلی متر\",\n",
    "    \"7- لوله پلی اتیلن با قطر 200 میلی متر\",\n",
    "    \"8- لوله پلی اتیلن نیم دایره ای با قطر 200 میلی متر\",\n",
    "    \"9- پایه نورپردازی فولادی چند وجهی با رنگ آمیزی یا روکش گالوانیزه بلندای 7 متر\"\n",
    "]"
   ]
  },
  {
   "cell_type": "code",
   "execution_count": 63,
   "metadata": {},
   "outputs": [
    {
     "data": {
      "text/plain": [
       "[('1', 'NUM'),\n",
       " ('-', 'PUNCT'),\n",
       " ('کابل', 'NOUN,EZ'),\n",
       " ('فاصله', 'NOUN,EZ'),\n",
       " ('ای', 'NOUN'),\n",
       " ('با', 'ADP'),\n",
       " ('یک', 'NUM'),\n",
       " ('بخش', 'NOUN,EZ'),\n",
       " ('متقاطع', 'ADJ'),\n",
       " ('به', 'ADP'),\n",
       " ('مساحت', 'NOUN,EZ'),\n",
       " ('70', 'NUM,EZ'),\n",
       " ('میلی', 'NOUN'),\n",
       " ('متر', 'NOUN,EZ'),\n",
       " ('مربع', 'NOUN'),\n",
       " ('با', 'ADP'),\n",
       " ('ولتاژ', 'NOUN,EZ'),\n",
       " ('رتبه', 'NOUN,EZ'),\n",
       " ('ای', 'ADJ,EZ'),\n",
       " ('20', 'NUM,EZ'),\n",
       " ('کیلوولت', 'NOUN')]"
      ]
     },
     "execution_count": 63,
     "metadata": {},
     "output_type": "execute_result"
    }
   ],
   "source": [
    "normalizer = Normalizer()\n",
    "tagger = POSTagger(model='pos_tagger.model')\n",
    "tagger.tag(word_tokenize(\"1- کابل فاصله ای با یک بخش متقاطع به مساحت 70 میلی متر مربع با ولتاژ رتبه ای 20 کیلوولت\"))"
   ]
  },
  {
   "cell_type": "code",
   "execution_count": 74,
   "metadata": {},
   "outputs": [
    {
     "name": "stdout",
     "output_type": "stream",
     "text": [
      "[پایه بتنی برق تیـپ گرد پیش‌تنیده, ارتفاع 12 متر,قدرت نامی 200 کیلوگرم نیرو NP]\n"
     ]
    }
   ],
   "source": [
    "chunker = Chunker(model='chunker.model')\n",
    "sentence = \"پایه بتنی برق تیـپ گرد پیش‌تنیده, ارتفاع 12 متر و قدرت نامی 200 کیلوگرم نیرو\"\n",
    "\n",
    "if ' و ' in sentence:\n",
    "    sentence = sentence.replace(' و ', ',')\n",
    "    \n",
    "tagged = tagger.tag(word_tokenize(sentence))\n",
    "parts = tree2brackets(chunker.parse(tagged))\n",
    "print(parts)"
   ]
  },
  {
   "cell_type": "code",
   "execution_count": 70,
   "metadata": {},
   "outputs": [
    {
     "name": "stdout",
     "output_type": "stream",
     "text": [
      "['پایه بتنی برق تیـپ گرد پیش\\u200cتنیده, ارتفاع 9 متر', 'قدرت نامی 200 کیلوگرم نیرو']\n"
     ]
    }
   ],
   "source": [
    "import re \n",
    "# Define the pattern to match anything between []\n",
    "pattern = r'\\[(.*?)\\]'\n",
    "\n",
    "# Find all occurrences of the pattern in the input string\n",
    "extracted_phrases = re.findall(pattern, parts)\n",
    "for i, word in enumerate(extracted_phrases):\n",
    "    if 'PP' in word:\n",
    "        extracted_phrases.remove(word)\n",
    "        \n",
    "corrected = []\n",
    "for word in extracted_phrases:\n",
    "    if 'NP' in word:\n",
    "        word = word.replace(' NP', '')\n",
    "        corrected.append(word)    \n",
    "            \n",
    "# Print the extracted phrases\n",
    "print(corrected)"
   ]
  },
  {
   "cell_type": "code",
   "execution_count": 16,
   "metadata": {},
   "outputs": [
    {
     "data": {
      "text/html": [
       "<div>\n",
       "<style scoped>\n",
       "    .dataframe tbody tr th:only-of-type {\n",
       "        vertical-align: middle;\n",
       "    }\n",
       "\n",
       "    .dataframe tbody tr th {\n",
       "        vertical-align: top;\n",
       "    }\n",
       "\n",
       "    .dataframe thead th {\n",
       "        text-align: right;\n",
       "    }\n",
       "</style>\n",
       "<table border=\"1\" class=\"dataframe\">\n",
       "  <thead>\n",
       "    <tr style=\"text-align: right;\">\n",
       "      <th></th>\n",
       "      <th>row_number</th>\n",
       "      <th>row_desc</th>\n",
       "      <th>unit</th>\n",
       "      <th>price</th>\n",
       "    </tr>\n",
       "  </thead>\n",
       "  <tbody>\n",
       "    <tr>\n",
       "      <th>0</th>\n",
       "      <td>85010101</td>\n",
       "      <td>پایه بتنی چهار گوش مسلح به ارتفاع 9 متر و قدرت...</td>\n",
       "      <td>اصله</td>\n",
       "      <td>30000000.0</td>\n",
       "    </tr>\n",
       "    <tr>\n",
       "      <th>1</th>\n",
       "      <td>85010102</td>\n",
       "      <td>پایه بتنی چهار گوش مسلح به ارتفاع 9 متر و قدرت...</td>\n",
       "      <td>اصله</td>\n",
       "      <td>38000000.0</td>\n",
       "    </tr>\n",
       "    <tr>\n",
       "      <th>2</th>\n",
       "      <td>85010103</td>\n",
       "      <td>پایه بتنی چهار گوش مسلح به ارتفاع 9 متر و قدرت...</td>\n",
       "      <td>اصله</td>\n",
       "      <td>46200000.0</td>\n",
       "    </tr>\n",
       "    <tr>\n",
       "      <th>3</th>\n",
       "      <td>85010104</td>\n",
       "      <td>پایه بتنی چهار گوش مسلح به ارتفاع 9 متر و قدرت...</td>\n",
       "      <td>اصله</td>\n",
       "      <td>52000000.0</td>\n",
       "    </tr>\n",
       "    <tr>\n",
       "      <th>4</th>\n",
       "      <td>85010105</td>\n",
       "      <td>پایه بتنی چهار گوش مسلح به ارتفاع 9 متر و قدرت...</td>\n",
       "      <td>اصله</td>\n",
       "      <td>56000000.0</td>\n",
       "    </tr>\n",
       "    <tr>\n",
       "      <th>5</th>\n",
       "      <td>85010201</td>\n",
       "      <td>پایه بتنی چهار گوش مسلح به ارتفاع 12 متر و قدر...</td>\n",
       "      <td>اصله</td>\n",
       "      <td>52000000.0</td>\n",
       "    </tr>\n",
       "    <tr>\n",
       "      <th>6</th>\n",
       "      <td>85010202</td>\n",
       "      <td>پایه بتنی چهار گوش مسلح به ارتفاع 12 متر و قدر...</td>\n",
       "      <td>اصله</td>\n",
       "      <td>55000000.0</td>\n",
       "    </tr>\n",
       "    <tr>\n",
       "      <th>7</th>\n",
       "      <td>85010203</td>\n",
       "      <td>پایه بتنی چهار گوش مسلح به ارتفاع 12 متر و قدر...</td>\n",
       "      <td>اصله</td>\n",
       "      <td>70000000.0</td>\n",
       "    </tr>\n",
       "    <tr>\n",
       "      <th>8</th>\n",
       "      <td>85010204</td>\n",
       "      <td>پایه بتنی چهار گوش مسلح به ارتفاع 12 متر و قدر...</td>\n",
       "      <td>اصله</td>\n",
       "      <td>80000000.0</td>\n",
       "    </tr>\n",
       "    <tr>\n",
       "      <th>9</th>\n",
       "      <td>85010205</td>\n",
       "      <td>پایه بتنی چهار گوش مسلح به ارتفاع 12 متر و قدر...</td>\n",
       "      <td>اصله</td>\n",
       "      <td>87000000.0</td>\n",
       "    </tr>\n",
       "  </tbody>\n",
       "</table>\n",
       "</div>"
      ],
      "text/plain": [
       "   row_number                                           row_desc  unit  \\\n",
       "0    85010101  پایه بتنی چهار گوش مسلح به ارتفاع 9 متر و قدرت...  اصله   \n",
       "1    85010102  پایه بتنی چهار گوش مسلح به ارتفاع 9 متر و قدرت...  اصله   \n",
       "2    85010103  پایه بتنی چهار گوش مسلح به ارتفاع 9 متر و قدرت...  اصله   \n",
       "3    85010104  پایه بتنی چهار گوش مسلح به ارتفاع 9 متر و قدرت...  اصله   \n",
       "4    85010105  پایه بتنی چهار گوش مسلح به ارتفاع 9 متر و قدرت...  اصله   \n",
       "5    85010201  پایه بتنی چهار گوش مسلح به ارتفاع 12 متر و قدر...  اصله   \n",
       "6    85010202  پایه بتنی چهار گوش مسلح به ارتفاع 12 متر و قدر...  اصله   \n",
       "7    85010203  پایه بتنی چهار گوش مسلح به ارتفاع 12 متر و قدر...  اصله   \n",
       "8    85010204  پایه بتنی چهار گوش مسلح به ارتفاع 12 متر و قدر...  اصله   \n",
       "9    85010205  پایه بتنی چهار گوش مسلح به ارتفاع 12 متر و قدر...  اصله   \n",
       "\n",
       "        price  \n",
       "0  30000000.0  \n",
       "1  38000000.0  \n",
       "2  46200000.0  \n",
       "3  52000000.0  \n",
       "4  56000000.0  \n",
       "5  52000000.0  \n",
       "6  55000000.0  \n",
       "7  70000000.0  \n",
       "8  80000000.0  \n",
       "9  87000000.0  "
      ]
     },
     "execution_count": 16,
     "metadata": {},
     "output_type": "execute_result"
    }
   ],
   "source": [
    "import pandas as pd \n",
    "\n",
    "df = pd.read_excel(\"tools_list.xlsx\")\n",
    "columns = ['row_number', 'row_desc', 'unit', 'price']\n",
    "df.columns = columns\n",
    "df.head(10)"
   ]
  },
  {
   "cell_type": "code",
   "execution_count": 17,
   "metadata": {},
   "outputs": [
    {
     "data": {
      "text/plain": [
       "'پایه بتنی چهار گوش مسلح به ارتفاع 9 متر و قدرت نامی 200 کیلوگرم نیرو.'"
      ]
     },
     "execution_count": 17,
     "metadata": {},
     "output_type": "execute_result"
    }
   ],
   "source": [
    "df['row_desc'][0]"
   ]
  },
  {
   "cell_type": "code",
   "execution_count": 75,
   "metadata": {},
   "outputs": [
    {
     "data": {
      "text/plain": [
       "'کابل 33 کیلو\\u200cولت زره\\u200cدار, نوار فولادی گالوانیزه سه\\u200cرشته, هادی مسی, عایق پلی اتیلن, کراس لینک, شیلد,نوار مسی,پوشـش خارجی PVC, نوع N, 2 XSEYBY,به مقطع 35 ×, 3 میلی\\u200cمتر مربع'"
      ]
     },
     "execution_count": 75,
     "metadata": {},
     "output_type": "execute_result"
    }
   ],
   "source": [
    "import re \n",
    "# Define the pattern to match anything between []\n",
    "pattern = r'\\[(.*?)\\]'\n",
    "\n",
    "def find_chunks(sentence=None):\n",
    "    if ' و ' in sentence:\n",
    "        sentence = sentence.replace(' و ', ',')\n",
    "    tagged = tagger.tag(word_tokenize(sentence))\n",
    "    parts = tree2brackets(chunker.parse(tagged))\n",
    "    # Find all occurrences of the pattern in the input string\n",
    "    extracted_phrases = re.findall(pattern, parts)\n",
    "    for i, word in enumerate(extracted_phrases):\n",
    "        if 'PP' in word:\n",
    "            extracted_phrases.remove(word)\n",
    "            \n",
    "    corrected = []\n",
    "    for word in extracted_phrases:\n",
    "        if 'NP' in word:\n",
    "            word = word.replace(' NP', '')\n",
    "            corrected.append(word)\n",
    "            \n",
    "    result = ', '.join(corrected)\n",
    "    return result\n",
    "\n",
    "\n",
    "sentence = \"کابل 33 کیلو‌ولت زره‌دار با نوار فولادی گالوانیزه سه‌رشته، با هادی مسی، عایق پلی اتیلن کراس لینک، شیلد و نوار مسی و پوشـش خارجی PVC از نوع N2XSEYBY و به مقطع 35×3 میلی‌متر مربع.\"\n",
    "result = find_chunks(sentence = sentence)\n",
    "result"
   ]
  },
  {
   "cell_type": "code",
   "execution_count": 76,
   "metadata": {},
   "outputs": [],
   "source": [
    "df['Features'] = df['row_desc'].apply(find_chunks)"
   ]
  },
  {
   "cell_type": "code",
   "execution_count": 77,
   "metadata": {},
   "outputs": [
    {
     "data": {
      "text/html": [
       "<div>\n",
       "<style scoped>\n",
       "    .dataframe tbody tr th:only-of-type {\n",
       "        vertical-align: middle;\n",
       "    }\n",
       "\n",
       "    .dataframe tbody tr th {\n",
       "        vertical-align: top;\n",
       "    }\n",
       "\n",
       "    .dataframe thead th {\n",
       "        text-align: right;\n",
       "    }\n",
       "</style>\n",
       "<table border=\"1\" class=\"dataframe\">\n",
       "  <thead>\n",
       "    <tr style=\"text-align: right;\">\n",
       "      <th></th>\n",
       "      <th>row_number</th>\n",
       "      <th>row_desc</th>\n",
       "      <th>unit</th>\n",
       "      <th>price</th>\n",
       "      <th>Features</th>\n",
       "    </tr>\n",
       "  </thead>\n",
       "  <tbody>\n",
       "    <tr>\n",
       "      <th>0</th>\n",
       "      <td>85010101</td>\n",
       "      <td>پایه بتنی چهار گوش مسلح به ارتفاع 9 متر و قدرت...</td>\n",
       "      <td>اصله</td>\n",
       "      <td>30000000.0</td>\n",
       "      <td>پایه بتنی چهار گوش مسلح, ارتفاع 9 متر,قدرت نام...</td>\n",
       "    </tr>\n",
       "    <tr>\n",
       "      <th>1</th>\n",
       "      <td>85010102</td>\n",
       "      <td>پایه بتنی چهار گوش مسلح به ارتفاع 9 متر و قدرت...</td>\n",
       "      <td>اصله</td>\n",
       "      <td>38000000.0</td>\n",
       "      <td>پایه بتنی چهار گوش مسلح, ارتفاع 9 متر,قدرت نام...</td>\n",
       "    </tr>\n",
       "    <tr>\n",
       "      <th>2</th>\n",
       "      <td>85010103</td>\n",
       "      <td>پایه بتنی چهار گوش مسلح به ارتفاع 9 متر و قدرت...</td>\n",
       "      <td>اصله</td>\n",
       "      <td>46200000.0</td>\n",
       "      <td>پایه بتنی چهار گوش مسلح, ارتفاع 9 متر,قدرت نام...</td>\n",
       "    </tr>\n",
       "    <tr>\n",
       "      <th>3</th>\n",
       "      <td>85010104</td>\n",
       "      <td>پایه بتنی چهار گوش مسلح به ارتفاع 9 متر و قدرت...</td>\n",
       "      <td>اصله</td>\n",
       "      <td>52000000.0</td>\n",
       "      <td>پایه بتنی چهار گوش مسلح, ارتفاع 9 متر,قدرت نام...</td>\n",
       "    </tr>\n",
       "    <tr>\n",
       "      <th>4</th>\n",
       "      <td>85010105</td>\n",
       "      <td>پایه بتنی چهار گوش مسلح به ارتفاع 9 متر و قدرت...</td>\n",
       "      <td>اصله</td>\n",
       "      <td>56000000.0</td>\n",
       "      <td>پایه بتنی چهار گوش مسلح, ارتفاع 9 متر,قدرت نام...</td>\n",
       "    </tr>\n",
       "  </tbody>\n",
       "</table>\n",
       "</div>"
      ],
      "text/plain": [
       "   row_number                                           row_desc  unit  \\\n",
       "0    85010101  پایه بتنی چهار گوش مسلح به ارتفاع 9 متر و قدرت...  اصله   \n",
       "1    85010102  پایه بتنی چهار گوش مسلح به ارتفاع 9 متر و قدرت...  اصله   \n",
       "2    85010103  پایه بتنی چهار گوش مسلح به ارتفاع 9 متر و قدرت...  اصله   \n",
       "3    85010104  پایه بتنی چهار گوش مسلح به ارتفاع 9 متر و قدرت...  اصله   \n",
       "4    85010105  پایه بتنی چهار گوش مسلح به ارتفاع 9 متر و قدرت...  اصله   \n",
       "\n",
       "        price                                           Features  \n",
       "0  30000000.0  پایه بتنی چهار گوش مسلح, ارتفاع 9 متر,قدرت نام...  \n",
       "1  38000000.0  پایه بتنی چهار گوش مسلح, ارتفاع 9 متر,قدرت نام...  \n",
       "2  46200000.0  پایه بتنی چهار گوش مسلح, ارتفاع 9 متر,قدرت نام...  \n",
       "3  52000000.0  پایه بتنی چهار گوش مسلح, ارتفاع 9 متر,قدرت نام...  \n",
       "4  56000000.0  پایه بتنی چهار گوش مسلح, ارتفاع 9 متر,قدرت نام...  "
      ]
     },
     "execution_count": 77,
     "metadata": {},
     "output_type": "execute_result"
    }
   ],
   "source": [
    "df.head()"
   ]
  },
  {
   "cell_type": "code",
   "execution_count": 78,
   "metadata": {},
   "outputs": [],
   "source": [
    "df.to_excel(\"Splitted_Features.xlsx\")"
   ]
  },
  {
   "cell_type": "code",
   "execution_count": null,
   "metadata": {},
   "outputs": [],
   "source": []
  },
  {
   "cell_type": "code",
   "execution_count": null,
   "metadata": {},
   "outputs": [],
   "source": []
  },
  {
   "cell_type": "code",
   "execution_count": 5,
   "metadata": {},
   "outputs": [
    {
     "data": {
      "text/plain": [
       "'[کابل مسی دورشته NP] [با PP] [عایق و روکش PVC NP] [از PP] [نوع NYY NP] [با PP] [سطح مقطع 2 * 1.5 میلیمتر مربع NP] .'"
      ]
     },
     "execution_count": 5,
     "metadata": {},
     "output_type": "execute_result"
    }
   ],
   "source": [
    "tagged = tagger.tag(word_tokenize(\"کابل مسی دورشته با عایق و روکش PVC از نوع NYY با سطح مقطع 2*1.5 میلیمتر مربع.\"))\n",
    "tree2brackets(chunker.parse(tagged))"
   ]
  },
  {
   "cell_type": "code",
   "execution_count": 6,
   "metadata": {},
   "outputs": [
    {
     "data": {
      "text/plain": [
       "'[کابل مسی دورشته NP] [با PP] [عایق و روکش PVC NP] [از PP] [نوع NYY NP] [با PP] [سطح مقطع 2 * 2.5 میلیمتر مربع NP] .'"
      ]
     },
     "execution_count": 6,
     "metadata": {},
     "output_type": "execute_result"
    }
   ],
   "source": [
    "tagged = tagger.tag(word_tokenize(\"کابل مسی دورشته با عایق و روکش PVC از نوع NYY با سطح مقطع 2*2.5 میلیمتر مربع.\"))\n",
    "tree2brackets(chunker.parse(tagged))"
   ]
  },
  {
   "cell_type": "code",
   "execution_count": 7,
   "metadata": {},
   "outputs": [
    {
     "data": {
      "text/plain": [
       "'[کابل مسی سه رشته NP] [با PP] [شیلددار NP] [با PP] [نول یا ارت NP] [به PP] [صورت غلاف مسی NP] [با PP] [عایق و روکش PVC NP] [از PP] [نوع NYCY NP] [با PP] [سطح مقطع 3 * 6 + 6 میلیمتر مربع NP] .'"
      ]
     },
     "execution_count": 7,
     "metadata": {},
     "output_type": "execute_result"
    }
   ],
   "source": [
    "tagged = tagger.tag(word_tokenize(\"کابل مسی سه رشته با شیلددار با نول یا ارت به صورت غلاف مسی با عایق و روکش PVC از نوع NYCY با سطح مقطع 3*6+6 میلیمتر مربع.\"))\n",
    "tree2brackets(chunker.parse(tagged))"
   ]
  },
  {
   "cell_type": "code",
   "execution_count": 21,
   "metadata": {},
   "outputs": [
    {
     "data": {
      "text/plain": [
       "'[کابل\\u200cهای 11 کیلوولت NP] [تک رشته NP] [بدون PP] [زره NP]'"
      ]
     },
     "execution_count": 21,
     "metadata": {},
     "output_type": "execute_result"
    }
   ],
   "source": [
    "tagged = tagger.tag(word_tokenize(\"کابل‌های 11 کیلوولت تک رشته بدون زره\"))\n",
    "tree2brackets(chunker.parse(tagged))"
   ]
  },
  {
   "cell_type": "code",
   "execution_count": 10,
   "metadata": {},
   "outputs": [
    {
     "name": "stdout",
     "output_type": "stream",
     "text": [
      "[لوله PVC فشار قوی NP] [به PP] [قطر NP] [۶۳ میلی‌متر ADVP]\n",
      "[کلید مینیاتوری NP] [دو‌پل NP] [با PP] [جریان نامی ۴۰ تا ۶۳ آمپر NP] [با PP] [قدرت قطع ۱۰ کیلوآمپر NP]\n",
      "[کلید مینیاتوری NP] [چهارپل NP] [با PP] [جریان نامی ۴۰ تا ۶۳ آمپر NP] [با PP] [قدرت قطع ۶ کیلوآمپر NP]\n",
      "[پایه چوبی ۱۱ متری نیمه‌سنگین NP]\n",
      "[پایه چوبی NP] [با PP] [طول ۱۱ متر NP] و [وزن نیمه سنگین NP]\n"
     ]
    }
   ],
   "source": [
    "normalizer = Normalizer()\n",
    "tools = [\n",
    "    \"لوله PVC فشار قوی به قطر 63 میلی‌متر\",\n",
    "    \"کلید مینیاتوری دو‌پل با جریان نامی 40 تا 63 آمپر با قدرت قطع 10 کیلوآمپر\",\n",
    "    \"کلید مینیاتوری چهارپل با جریان نامی 40 تا 63 آمپر با قدرت قطع 6 کیلوآمپر\",\n",
    "    \"پایه چوبی 11 متری نیمه‌سنگین\",\n",
    "    \"پایه چوبی با طول 11 متر و وزن نیمه سنگین\"\n",
    "]\n",
    "\n",
    "for tool in tools:\n",
    "    tool = normalizer.normalize(tool)\n",
    "    tagged = tagger.tag(word_tokenize(tool))\n",
    "    print(tree2brackets(chunker.parse(tagged)))"
   ]
  },
  {
   "cell_type": "code",
   "execution_count": 15,
   "metadata": {},
   "outputs": [
    {
     "data": {
      "text/html": [
       "<div>\n",
       "<style scoped>\n",
       "    .dataframe tbody tr th:only-of-type {\n",
       "        vertical-align: middle;\n",
       "    }\n",
       "\n",
       "    .dataframe tbody tr th {\n",
       "        vertical-align: top;\n",
       "    }\n",
       "\n",
       "    .dataframe thead th {\n",
       "        text-align: right;\n",
       "    }\n",
       "</style>\n",
       "<table border=\"1\" class=\"dataframe\">\n",
       "  <thead>\n",
       "    <tr style=\"text-align: right;\">\n",
       "      <th></th>\n",
       "      <th>row_number</th>\n",
       "      <th>desc</th>\n",
       "      <th>unit</th>\n",
       "      <th>price</th>\n",
       "    </tr>\n",
       "  </thead>\n",
       "  <tbody>\n",
       "    <tr>\n",
       "      <th>0</th>\n",
       "      <td>85010101</td>\n",
       "      <td>پایه بتنی چهار گوش مسلح به ارتفاع 9 متر و قدرت...</td>\n",
       "      <td>اصله</td>\n",
       "      <td>30000000.0</td>\n",
       "    </tr>\n",
       "    <tr>\n",
       "      <th>1</th>\n",
       "      <td>85010102</td>\n",
       "      <td>پایه بتنی چهار گوش مسلح به ارتفاع 9 متر و قدرت...</td>\n",
       "      <td>اصله</td>\n",
       "      <td>38000000.0</td>\n",
       "    </tr>\n",
       "    <tr>\n",
       "      <th>2</th>\n",
       "      <td>85010103</td>\n",
       "      <td>پایه بتنی چهار گوش مسلح به ارتفاع 9 متر و قدرت...</td>\n",
       "      <td>اصله</td>\n",
       "      <td>46200000.0</td>\n",
       "    </tr>\n",
       "    <tr>\n",
       "      <th>3</th>\n",
       "      <td>85010104</td>\n",
       "      <td>پایه بتنی چهار گوش مسلح به ارتفاع 9 متر و قدرت...</td>\n",
       "      <td>اصله</td>\n",
       "      <td>52000000.0</td>\n",
       "    </tr>\n",
       "    <tr>\n",
       "      <th>4</th>\n",
       "      <td>85010105</td>\n",
       "      <td>پایه بتنی چهار گوش مسلح به ارتفاع 9 متر و قدرت...</td>\n",
       "      <td>اصله</td>\n",
       "      <td>56000000.0</td>\n",
       "    </tr>\n",
       "  </tbody>\n",
       "</table>\n",
       "</div>"
      ],
      "text/plain": [
       "   row_number                                               desc  unit  \\\n",
       "0    85010101  پایه بتنی چهار گوش مسلح به ارتفاع 9 متر و قدرت...  اصله   \n",
       "1    85010102  پایه بتنی چهار گوش مسلح به ارتفاع 9 متر و قدرت...  اصله   \n",
       "2    85010103  پایه بتنی چهار گوش مسلح به ارتفاع 9 متر و قدرت...  اصله   \n",
       "3    85010104  پایه بتنی چهار گوش مسلح به ارتفاع 9 متر و قدرت...  اصله   \n",
       "4    85010105  پایه بتنی چهار گوش مسلح به ارتفاع 9 متر و قدرت...  اصله   \n",
       "\n",
       "        price  \n",
       "0  30000000.0  \n",
       "1  38000000.0  \n",
       "2  46200000.0  \n",
       "3  52000000.0  \n",
       "4  56000000.0  "
      ]
     },
     "execution_count": 15,
     "metadata": {},
     "output_type": "execute_result"
    }
   ],
   "source": [
    "import pandas as pd \n",
    "df = pd.read_excel(\"tools_list.xlsx\")\n",
    "columns = [\"row_number\", \"desc\", \"unit\", \"price\"]\n",
    "df.columns = columns\n",
    "df.head()"
   ]
  },
  {
   "cell_type": "code",
   "execution_count": 16,
   "metadata": {},
   "outputs": [
    {
     "name": "stdout",
     "output_type": "stream",
     "text": [
      "پایه بتنی چهار گوش مسلح به ارتفاع 9 متر و قدرت نامی 200 کیلوگرم نیرو.\n",
      "[پایه بتنی چهار گوش مسلح NP] [به PP] [ارتفاع ۹ متر و قدرت نامی ۲۰۰ کیلوگرم نیرو NP] .\n"
     ]
    }
   ],
   "source": [
    "print(df.iloc[0]['desc'])\n",
    "tool = normalizer.normalize(df.iloc[0]['desc'])\n",
    "tagged = tagger.tag(word_tokenize(tool))\n",
    "print(tree2brackets(chunker.parse(tagged)))"
   ]
  },
  {
   "cell_type": "code",
   "execution_count": 21,
   "metadata": {},
   "outputs": [
    {
     "name": "stdout",
     "output_type": "stream",
     "text": [
      "پایه بتنی، چهار گوش مسلح به ارتفاع، ۹ متر و قدرت نامی، ۲۰۰ کیلوگرم نیرو .\n"
     ]
    }
   ],
   "source": [
    "from hazm import Normalizer, word_tokenize, POSTagger\n",
    "\n",
    "def split_sentence(sentence):\n",
    "    # Normalize the sentence\n",
    "    normalizer = Normalizer()\n",
    "    normalized_sentence = normalizer.normalize(sentence)\n",
    "\n",
    "    # Tokenize the normalized sentence\n",
    "    tokens = word_tokenize(normalized_sentence)\n",
    "\n",
    "    # Perform POS tagging\n",
    "    tagger = POSTagger(model='pos_tagger.model')\n",
    "    tagged_tokens = tagger.tag(tokens)\n",
    "\n",
    "    # Extract features based on POS tags\n",
    "    features = []\n",
    "    current_feature = \"\"\n",
    "    for token, pos_tag in tagged_tokens:\n",
    "        if pos_tag == 'Ne' or pos_tag == 'NUM':\n",
    "            # Proper noun (named entity) or number, indicating a feature\n",
    "            if current_feature:\n",
    "                # If there's an existing feature, add it to the list\n",
    "                features.append(current_feature.strip())\n",
    "            # Start a new feature with the current token\n",
    "            current_feature = token\n",
    "        else:\n",
    "            # Add the token to the current feature\n",
    "            current_feature += \" \" + token\n",
    "\n",
    "    # Add the last feature to the list\n",
    "    features.append(current_feature.strip())\n",
    "\n",
    "    # Join the features with commas to create the final sentence\n",
    "    final_sentence = \"، \".join(features)\n",
    "\n",
    "    return final_sentence\n",
    "\n",
    "# Example usage\n",
    "input_sentence = \"پایه بتنی چهار گوش مسلح به ارتفاع 9 متر و قدرت نامی 200 کیلوگرم نیرو.\"\n",
    "output_sentence = split_sentence(input_sentence)\n",
    "print(output_sentence)\n"
   ]
  },
  {
   "cell_type": "code",
   "execution_count": 22,
   "metadata": {},
   "outputs": [
    {
     "name": "stdout",
     "output_type": "stream",
     "text": [
      "[کابل مسی NP] [سه رشته NP] [با شیلددار NPP] [با نول NPP] یا [ارت NP] [به صورت غلاف مسی NPP] [با عایق NPP] و [روکش NP] PVC [از نوع NPP] NYCY [با سطح مقطع 3*6+6 میلیمتر مربع NPP]\n"
     ]
    }
   ],
   "source": [
    "from parsivar import POSTagger, FindChunks, Normalizer, Tokenizer\n",
    "my_tokenizer = Tokenizer()\n",
    "my_normalizer = Normalizer(statistical_space_correction=True)\n",
    "my_tagger = POSTagger(tagging_model=\"wapiti\")\n",
    "# tmp_text = \"به گزارش ایسنا سمینار شیمی آلی از امروز ۱۱ شهریور ۱۳۹۶ در دانشگاه علم و صنعت ایران آغاز به کار کرد. این سمینار تا ۱۳ شهریور ادامه می یابد.\"\n",
    "text_tags = my_tagger.parse(my_tokenizer.tokenize_words(\"کابل مسی سه رشته با شیلددار با نول یا ارت به صورت غلاف مسی با عایق و روکش PVC از نوع NYCY با سطح مقطع 3*6+6 میلیمتر مربع\"))\n",
    "my_chunker = FindChunks()\n",
    "chunks = my_chunker.chunk_sentence(text_tags)\n",
    "print(my_chunker.convert_nestedtree2rawstring(chunks))"
   ]
  },
  {
   "cell_type": "code",
   "execution_count": null,
   "metadata": {},
   "outputs": [],
   "source": []
  }
 ],
 "metadata": {
  "kernelspec": {
   "display_name": "venv",
   "language": "python",
   "name": "venv"
  },
  "language_info": {
   "codemirror_mode": {
    "name": "ipython",
    "version": 3
   },
   "file_extension": ".py",
   "mimetype": "text/x-python",
   "name": "python",
   "nbconvert_exporter": "python",
   "pygments_lexer": "ipython3",
   "version": "3.11.4"
  }
 },
 "nbformat": 4,
 "nbformat_minor": 4
}
